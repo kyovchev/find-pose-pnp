{
 "cells": [
  {
   "cell_type": "code",
   "execution_count": 1,
   "id": "e66ca137-82e3-4991-88d6-3d39f4e7a74e",
   "metadata": {},
   "outputs": [
    {
     "name": "stdout",
     "output_type": "stream",
     "text": [
      "(44, 2)\n",
      "[[49, 49, 0], [49, 98, 0], [50, 99, 0], [49, 101, 0], [55, 101, 0], [56, 100, 0], [57, 101, 0], [58, 100, 0], [60, 101, 0], [65, 100, 0], [66, 101, 0], [102, 101, 0], [103, 100, 0], [104, 101, 0], [177, 101, 0], [178, 100, 0], [179, 101, 0], [197, 101, 0], [198, 100, 0], [201, 101, 0], [200, 100, 0], [201, 99, 0], [201, 80, 0], [200, 79, 0], [201, 74, 0], [198, 73, 0], [193, 74, 0], [192, 72, 0], [187, 72, 0], [174, 69, 0], [173, 70, 0], [168, 68, 0], [163, 68, 0], [114, 59, 0], [110, 60, 0], [108, 58, 0], [103, 58, 0], [102, 57, 0], [97, 58, 0], [96, 56, 0], [91, 56, 0], [66, 51, 0], [63, 52, 0], [60, 50, 0]]\n"
     ]
    },
    {
     "data": {
      "text/plain": [
       "<matplotlib.image.AxesImage at 0x24a08c7e7b0>"
      ]
     },
     "execution_count": 1,
     "metadata": {},
     "output_type": "execute_result"
    },
    {
     "data": {
      "image/png": "[encoded data removed]",
      "text/plain": [
       "<Figure size 640x480 with 1 Axes>"
      ]
     },
     "metadata": {},
     "output_type": "display_data"
    }
   ],
   "source": [
    "import cv2\n",
    "import numpy as np\n",
    "import matplotlib.pyplot as plt\n",
    "\n",
    "\n",
    "img = np.zeros((400, 400), dtype=np.uint8)\n",
    "\n",
    "points = np.array([[0, 0],\n",
    "    [0, 50],\n",
    "    [150, 50],\n",
    "    [150, 25]])\n",
    "points = points + [50,50]\n",
    "cv2.fillPoly(img, [points], 255)\n",
    "\n",
    "mean = 0\n",
    "std_dev = 20\n",
    "gauss = np.random.normal(mean, std_dev, img.shape).astype(np.uint8)\n",
    "\n",
    "kernel = np.ones((3,3), np.uint8)\n",
    "dilated = cv2.dilate(img, kernel, iterations=1)\n",
    "mask = dilated - img\n",
    "\n",
    "noisy_img = cv2.add(img, gauss * (mask>0))\n",
    "\n",
    "cnts, hierarchy = cv2.findContours(noisy_img, cv2.RETR_EXTERNAL, cv2.CHAIN_APPROX_SIMPLE)\n",
    "if len(cnts) > 0:     \n",
    "    cnt = max(cnts, key=cv2.contourArea)\n",
    "\n",
    "    # cnt = cv2.convexHull(cnt)\n",
    "    \n",
    "    epsilon = 0.002 * cv2.arcLength(cnt, True)\n",
    "    approx = cv2.approxPolyDP(cnt, epsilon, True)\n",
    "\n",
    "img_pts = approx.reshape(-1, 2).astype(np.float32)\n",
    "print(img_pts.shape)\n",
    "\n",
    "points_3d = np.hstack([img_pts, np.zeros((img_pts.shape[0], 1))])\n",
    "\n",
    "points_list = points_3d.astype(np.int32).tolist()\n",
    "\n",
    "print(points_list)\n",
    "\n",
    "contour_to_draw = approx  # shape: (N,1,2)\n",
    "contour = np.zeros(img.shape, dtype=np.uint8)\n",
    "cv2.drawContours(contour, [contour_to_draw], -1, 255, -1)\n",
    "\n",
    "plt.imshow(contour)"
   ]
  }
 ],
 "metadata": {
  "kernelspec": {
   "display_name": "Python 3 (ipykernel)",
   "language": "python",
   "name": "python3"
  },
  "language_info": {
   "codemirror_mode": {
    "name": "ipython",
    "version": 3
   },
   "file_extension": ".py",
   "mimetype": "text/x-python",
   "name": "python",
   "nbconvert_exporter": "python",
   "pygments_lexer": "ipython3",
   "version": "3.13.5"
  }
 },
 "nbformat": 4,
 "nbformat_minor": 5
}

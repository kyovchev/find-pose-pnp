{
 "cells": [
  {
   "cell_type": "code",
   "execution_count": 1,
   "id": "12d0091b-09a3-42ba-9da5-a1956237192d",
   "metadata": {},
   "outputs": [],
   "source": [
    "import cv2\n",
    "import numpy as np\n",
    "import glob\n",
    "import matplotlib.pyplot as plt\n",
    "import traceback\n",
    "import os\n",
    "from math import atan2, asin, degrees"
   ]
  },
  {
   "cell_type": "code",
   "execution_count": 2,
   "id": "ec595999-0a3d-4794-9761-0a4ca50440fd",
   "metadata": {},
   "outputs": [],
   "source": [
    "CAMERA = 'oakd'\n",
    "CALIBRATION_PATH = './calibration'\n",
    "PATH = './find_pose'\n",
    "CAMERA_CALIBRATION = f'{CALIBRATION_PATH}/{CAMERA}/calib_data_oakd.npz'"
   ]
  },
  {
   "cell_type": "code",
   "execution_count": 3,
   "id": "ada777f4-f472-4ca7-8c19-348b74a77c7a",
   "metadata": {},
   "outputs": [
    {
     "name": "stdout",
     "output_type": "stream",
     "text": [
      "[[3.14212361e+03 0.00000000e+00 1.92260024e+03]\n",
      " [0.00000000e+00 3.14649877e+03 1.08610836e+03]\n",
      " [0.00000000e+00 0.00000000e+00 1.00000000e+00]]\n"
     ]
    }
   ],
   "source": [
    "data = np.load(CAMERA_CALIBRATION)\n",
    "camera_matrix = data['camera_matrix']\n",
    "dist_coeffs = data['dist_coeffs']\n",
    "\n",
    "print(camera_matrix)"
   ]
  },
  {
   "cell_type": "code",
   "execution_count": 4,
   "id": "67877aed-0942-4c55-8524-c37035310cfb",
   "metadata": {},
   "outputs": [
    {
     "name": "stdout",
     "output_type": "stream",
     "text": [
      "./find_pose/oakd/capture_1756299630.png\n",
      "./undistorted/oakd/undistorted_capture_1756299630.png\n",
      "True\n",
      "./find_pose/oakd/capture_1756299611.png\n",
      "./undistorted/oakd/undistorted_capture_1756299611.png\n",
      "True\n",
      "./find_pose/oakd/capture_1756300966.png\n",
      "./undistorted/oakd/undistorted_capture_1756300966.png\n",
      "True\n"
     ]
    }
   ],
   "source": [
    "for image_path in glob.glob(f'{PATH}/{CAMERA}/*'):\n",
    "    print(image_path)\n",
    "    frame = cv2.imread(image_path)\n",
    "\n",
    "    processed = cv2.undistort(frame.copy(), camera_matrix, dist_coeffs)\n",
    "    filename = f'./undistorted/{CAMERA}/undistorted_{os.path.basename(image_path)}'\n",
    "    print(filename)\n",
    "    print (cv2.imwrite(filename, cv2.undistort(frame, camera_matrix, dist_coeffs)))\n",
    "    "
   ]
  }
 ],
 "metadata": {
  "kernelspec": {
   "display_name": "Python 3 (ipykernel)",
   "language": "python",
   "name": "python3"
  },
  "language_info": {
   "codemirror_mode": {
    "name": "ipython",
    "version": 3
   },
   "file_extension": ".py",
   "mimetype": "text/x-python",
   "name": "python",
   "nbconvert_exporter": "python",
   "pygments_lexer": "ipython3",
   "version": "3.12.3"
  }
 },
 "nbformat": 4,
 "nbformat_minor": 5
}

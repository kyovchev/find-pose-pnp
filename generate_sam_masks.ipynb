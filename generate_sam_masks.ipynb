{
 "cells": [
  {
   "cell_type": "code",
   "execution_count": 1,
   "id": "2c21a25a-2478-4445-a51e-617465204cc9",
   "metadata": {},
   "outputs": [],
   "source": [
    "import torch\n",
    "import cv2\n",
    "import numpy as np\n",
    "from segment_anything import SamAutomaticMaskGenerator, sam_model_registry\n",
    "import glob\n",
    "\n",
    "\n",
    "# Params\n",
    "IMAGE_PATH = './segmentation/*.png'\n",
    "RESIZE_TO = (1920, 1080)\n",
    "SAM_CHECKPOINT = 'sam_vit_b_01ec64.pth'  # Change to your checkpoint\n",
    "MODEL_TYPE = 'vit_b'  # Change to match your model (vit_b, vit_l, vit_h)\n",
    "\n",
    "\n",
    "# Load model\n",
    "device = \"cuda\" if torch.cuda.is_available() else \"cpu\"\n",
    "sam = sam_model_registry[MODEL_TYPE](checkpoint=SAM_CHECKPOINT)\n",
    "sam.to(device=device)\n",
    "\n",
    "# Create mask generator\n",
    "mask_generator = SamAutomaticMaskGenerator(\n",
    "    sam,\n",
    "    # points_per_batch=32,  # Default is 64\n",
    "    # crop_n_layers=0       # Reduces memory usage\n",
    ")\n",
    "\n",
    "for image_path in sorted(glob.glob(IMAGE_PATH)):\n",
    "    try:\n",
    "        data = np.load(image_path[:image_path.rfind('.')] + '_masks.npz', allow_pickle=True)\n",
    "        continue\n",
    "    except:\n",
    "        pass\n",
    "\n",
    "    # Load image\n",
    "    image = cv2.imread(image_path)\n",
    "    image = cv2.imread(image_path)\n",
    "    image = cv2.bilateralFilter(image, 9, 75, 75)\n",
    "    kernel = np.array([[0, -1, 0],\n",
    "                       [-1, 5,-1],\n",
    "                       [0, -1, 0]])\n",
    "    image = cv2.filter2D(image, -1, kernel)\n",
    "    image = cv2.resize(image, RESIZE_TO)\n",
    "    image = cv2.cvtColor(image, cv2.COLOR_BGR2RGB)\n",
    "    \n",
    "    # Generate all masks\n",
    "    masks = mask_generator.generate(image)\n",
    "    \n",
    "    # Save masks for futher processing\n",
    "    np.savez(image_path[:image_path.rfind('.')] + '_masks.npz', masks=masks)"
   ]
  }
 ],
 "metadata": {
  "kernelspec": {
   "display_name": "Python 3 (ipykernel)",
   "language": "python",
   "name": "python3"
  },
  "language_info": {
   "codemirror_mode": {
    "name": "ipython",
    "version": 3
   },
   "file_extension": ".py",
   "mimetype": "text/x-python",
   "name": "python",
   "nbconvert_exporter": "python",
   "pygments_lexer": "ipython3",
   "version": "3.13.5"
  }
 },
 "nbformat": 4,
 "nbformat_minor": 5
}
